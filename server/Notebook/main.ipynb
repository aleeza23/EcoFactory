{
 "cells": [
  {
   "cell_type": "code",
   "execution_count": null,
   "metadata": {},
   "outputs": [],
   "source": [
    "# %pip install pinecone-client"
   ]
  },
  {
   "cell_type": "code",
   "execution_count": null,
   "metadata": {},
   "outputs": [],
   "source": [
    "# %pip install cohere"
   ]
  },
  {
   "cell_type": "code",
   "execution_count": 2,
   "metadata": {},
   "outputs": [
    {
     "name": "stderr",
     "output_type": "stream",
     "text": [
      "d:\\Git Hub Repos\\EcoFactory\\env\\Lib\\site-packages\\pinecone\\data\\index.py:1: TqdmWarning: IProgress not found. Please update jupyter and ipywidgets. See https://ipywidgets.readthedocs.io/en/stable/user_install.html\n",
      "  from tqdm.autonotebook import tqdm\n"
     ]
    }
   ],
   "source": [
    "import os\n",
    "\n",
    "from openai import OpenAI\n",
    "client = OpenAI()\n",
    "\n",
    "from pinecone import Pinecone\n",
    "from pinecone import PodSpec"
   ]
  },
  {
   "cell_type": "code",
   "execution_count": 3,
   "metadata": {},
   "outputs": [],
   "source": [
    "use_serverless = \"false\"\n",
    "\n",
    "# initialize connection to pinecone\n",
    "# api_key = os.environ.get('PINECONE_API_KEY')\n",
    "# print(api_key)\n",
    "# configure client\n",
    "pc = Pinecone(api_key=\"c511f2f3-19d6-458d-84b3-5336b57d7c80\")      "
   ]
  },
  {
   "cell_type": "code",
   "execution_count": 4,
   "metadata": {},
   "outputs": [],
   "source": [
    "# Index specification\n",
    "spec = PodSpec(environment=\"gcp-starter\")"
   ]
  },
  {
   "cell_type": "code",
   "execution_count": 6,
   "metadata": {},
   "outputs": [],
   "source": [
    "# Giving our index a name\n",
    "index_name = \"eco-factor\""
   ]
  },
  {
   "cell_type": "code",
   "execution_count": 7,
   "metadata": {},
   "outputs": [],
   "source": [
    "# # Delete the index, if an index of the same name already exists\n",
    "# if index_name in pc.list_indexes().names():\n",
    "#     pc.delete_index(index_name)"
   ]
  },
  {
   "cell_type": "code",
   "execution_count": 11,
   "metadata": {},
   "outputs": [],
   "source": [
    "if index_name not in pc.list_indexes().names():\n",
    "    pc.create_index(\n",
    "        index_name,\n",
    "        dimension=768,\n",
    "        metric='cosine',\n",
    "        spec=spec\n",
    "    )\n",
    "\n",
    "# connect to index\n",
    "index = pc.Index(index_name)"
   ]
  },
  {
   "cell_type": "code",
   "execution_count": 12,
   "metadata": {},
   "outputs": [
    {
     "name": "stdout",
     "output_type": "stream",
     "text": [
      "lePj6yC6ouKnUeprmrKtzd7R9uHOsfl2t5kSqd3G\n"
     ]
    }
   ],
   "source": [
    "\n",
    "from dotenv import load_dotenv\n",
    "load_dotenv()\n",
    "cohere_api_key = os.getenv('COHERE_API_KEY')\n",
    "print(cohere_api_key)\n"
   ]
  },
  {
   "cell_type": "code",
   "execution_count": 14,
   "metadata": {},
   "outputs": [],
   "source": [
    "import cohere\n",
    "co = cohere.Client(cohere_api_key)"
   ]
  },
  {
   "cell_type": "code",
   "execution_count": 40,
   "metadata": {},
   "outputs": [
    {
     "name": "stdout",
     "output_type": "stream",
     "text": [
      "['**[ANSWER 001]**\\n\\n\"# 1- Conventional Oil Desalter\\n\\n## \"Essential purification, proven efficiency.\"\\n\\n### Introduction to the Product:\\nThe Conventional Oil Desalter is a critical component in refinery operations, responsible for removing salt and other impurities from crude oil before the distillation process. This technology has been a pillar in refineries, ensuring the quality of the processed oil and protecting downstream units from corrosion and deposits.\\n\\n# 2- Main Features and Product Indication\\n\\n### General Features:\\nThis system is essential for refineries processing crude oil of different qualities, especially those with high salinity levels. Using electrostatic principles to coalesce and remove saltwater droplets from the oil, conventional desalters are designed to operate effectively, ensuring the integrity and efficiency of subsequent refining processes.\\n\\n# 3- Technical Product Information\\n\\n- **Processing Capacity:** Varies according to the model, but commonly designed to treat thousands of barrels per day.\\n- **Operating Voltage:** Electrostatic systems operate in a voltage range of 16kV to 35kV, optimizing the coalescence of saltwater droplets.\\n- **Operating Pressure:** Generally ranges from 100 to 150 psi, suitable for most refinery configurations.\\n- **Operating Temperature:** The temperature of the incoming crude oil is adjusted to 90°C to 150°C, facilitating effective separation.\\n\\n# 4- Technical Data Sheet of All Used Materials\\n\\n### Main Components:\\n- **Pressure Vessels:** Made of carbon steel ASTM A516 Grade 70, with a wall thickness of 1.5 cm to withstand high operating pressures.\\n- **Electrodes:** Use 316L stainless steel, resistant to corrosion and with excellent electrical conductivity, essential for the electrostatic field.\\n- **Heating Systems:** Heating coils in 316L stainless steel, designed to heat the crude oil to optimal temperatures for dehydration and desalination.\\n- **External Insulation:** Layer of rock wool with aluminum sheet coating to minimize thermal losses.\\n\\n# 5- Manufacturing Process\\n\\n1. **Vessel Fabrication:** Machining of carbon steel plates followed by welding to form the pressure vessels, using TIG welding techniques to ensure structural integrity.\\n2. **Electrode Assembly:** Cutting and shaping of 316L stainless steel for the production of electrodes, followed by installation inside the pressure vessels.\\n3. **Heating System Installation:** Assembly of the heating coils, ensuring uniform heat distribution inside the vessel.\\n4. **Pressure Testing and Insulation:** Conducting hydrostatic tests to verify the vessels\\' resistance and tightness, in addition to applying external thermal insulation.\\n5. **Final Inspection and Electrical Testing:** Detailed inspection of all parts to ensure compliance with quality standards, followed by electrical tests on the electrodes to validate the functionality of the electrostatic system.\\n\\nThis model of Conventional Oil Desalter represents a proven and effective solution for refineries, ensuring the quality of the processed crude oil and the efficiency of subsequent refining processes.\\n\\n\\n***************\\n\\n# Factory Model for the Production of the Conventional Oil Desalter\\n\\n## 1- Factory Name:\\n### PureTech Refinery Systems\\n\\n## 2- Factory Location:\\n### Industrial Zone of Dalian, Liaoning, China - Known for its strong refinery equipment industry.\\n\\n## 3- Detailed List of Machinery and Processes\\n\\n### Pressure Vessel Manufacturing:\\n- **CNC Plasma Cutting Machine (CutMaster 3000):**\\n  - Maximum cutting thickness: 150 mm.\\n  - Cutting precision: ±0.5 mm.\\n  - For cutting carbon steel ASTM A516 Grade 70, preparing plates for the pressure vessels.\\n\\n- **Automatic TIG Welding Machine (WeldPro TIG-500):**\\n  - Welding capacity: up to 500 A.\\n  - Inert gas control for high purity welding.\\n  - Specialized for carbon steel, ensuring high integrity and strength welds.\\n\\n### Electrode Assembly:\\n- **CNC Machining Center (PrecisionCut V5):**\\n  - Machining tolerance: ±0.02 mm.\\n  - For cutting and shaping electrodes in 316L stainless steel.\\n  - Adjustable machining speed for different electrode geometries.\\n\\n### Heating System Installation:\\n- **CNC Tube Bending Bench (TubeBender 360):**\\n  - Bending capacity: tubes up to 100 mm in diameter.\\n  - For bending 316L stainless steel tubes, forming heating coils.\\n  - Precise angle control to ensure the correct shape of the coils.\\n\\n### Pressure Testing and Insulation:\\n- **Hydrostatic Test System (HydroTest X200):**\\n  - Maximum test pressure: 300 psi.\\n  - To verify the pressure vessels\\' resistance and tightness.\\n  - Digital recording of applied pressure and test time.\\n\\n- **Insulation Application Equipment (InsuloWrap 450):**\\n  - For uniform application of rock wool and aluminum sheet coating.\\n  - Adjustable insulation thickness control.\\n\\n### Final Inspection and Electrical Testing:\\n- **Quality Inspection Station (QualityCheck 360):**\\n\\n\\n  - Equipment with high-resolution cameras and sensors for surface defect detection.\\n  - For visual and dimensional inspection of pressure vessels and electrodes.\\n\\n- **Electrostatic Test System (ElectroTest E500):**\\n  - For functionality tests of the electrostatic system.\\n  - Measurement of operating voltage and current under simulated operating conditions.\\n\\n### Packaging and Shipping:\\n- **Automated Packaging Line (PackLine Pro):**\\n  - Custom packaging system for large equipment.\\n  - Includes protection against impacts and moisture.\\n\\n- **Logistics Management System (LogiSmart Solutions):**\\n  - For expedition planning and delivery tracking.\\n  - Integration with carriers and real-time updates.\\n\\nThe PureTech Refinery Systems factory in Dalian is fully equipped to produce Conventional Oil Desalters with the highest precision and quality, ensuring the efficiency and durability necessary for critical refinery operations.\"', '\"# 1- Cyclone Pro-Elite Helmet\\n\\n## \"Speed and safety in perfect harmony.\"\\n\\n### Introduction to the Product:\\nThe Cyclone Pro-Elite Helmet is the definitive choice for professional cyclists and cycling enthusiasts seeking the highest level of protection, comfort, and aerodynamics. Engineered with cutting-edge technology, this helmet combines maximum safety with unmatched performance.\\n\\n# 2- Main Features and Product Indication\\n\\n### General Features:\\nIdeal for professional cyclists and serious cycling enthusiasts, the Cyclone Pro-Elite Helmet offers innovative features such as precise fit, optimized ventilation, and superior aerodynamics. This helmet is the perfect choice for those looking to improve their performance while maintaining safety at all speed levels.\\n\\n# 3- Technical Product Information\\n\\n- **Optimized Aerodynamics:** Wind tunnel-tested design to reduce air resistance, maximizing efficiency.\\n- **Micro-adjustable Fit System:** Allows for a precise and comfortable fit for different head sizes.\\n- **Advanced Ventilation:** Strategically positioned to optimize airflow and keep the head cool.\\n- **Impact Protection:** Utilizes high-tech materials to absorb and distribute the force of impacts.\\n\\n# 4- Technical Data Sheet of All Used Materials\\n\\n### External Structure:\\n- **High-impact Polycarbonate:** Impact-resistant material for the outer layer, with UV treatment and scratch resistance.\\n\\n### Protection Core:\\n- **High-density EPS Foam:** Expanded polystyrene with a density of 100 g/L, designed to absorb and disperse impact energy.\\n\\n### Fit and Comfort System:\\n- **Retention System with Polyamide:** Adjustable straps made of durable polyamide for a secure and personalized fit.\\n- **Removable Internal Padding:** Foam with antimicrobial treatment, easily removable and washable to keep the helmet interior fresh.\\n\\n# 5- Manufacturing Process\\n\\n1. **Core Molding:** High-density EPS injection into pre-formed molds to create the impact absorption core.\\n2. **Outer Shell Manufacturing:** Injection molding of polycarbonate, followed by a UV treatment for scratch resistance.\\n3. **Core and Shell Assembly:** Joining the polycarbonate outer shell with the EPS core using a hot molding technique, ensuring seamless integration for maximum protection.\\n4. **Adjustment System Installation:** Assembly of the adjustable retention system and internal padding, ensuring a comfortable and secure fit.\\n5. **Quality Control:** Each helmet undergoes rigorous safety and quality tests, including visual inspection, impact tests, and fitting, to ensure it meets or exceeds industry standards.\\n\\n\\n************************\\n\\n\\n# Factory Model for the Production of the Cyclone Pro-Elite Helmet\\n\\n## 1- Factory Name:\\n### SafetyRide Helmet Technologies\\n\\n## 2- Factory Location:\\n### Taizhou, Zhejiang, China - Known for its advanced personal protection equipment industry.\\n\\n## 3- Detailed List of Machinery and Processes\\n\\n### Core Molding:\\n- **EPS Injection Machine (EPSMax 4000):**\\n  - Injection capacity: 4 kg per cycle.\\n  - Adjustable EPS density: 60 to 120 g/L.\\n  - Precise temperature control system to ensure uniformity in the EPS core.\\n\\n### Outer Shell Manufacturing:\\n- **Polycarbonate Injection Machine (Polycarb Inject 500):**\\n  - Clamping force: 500 tons.\\n  - Injection capacity: up to 2 kg of polycarbonate per cycle.\\n  - Heating and cooling system for precise molding of polycarbonate, including in-line UV treatment.\\n\\n### Core and Shell Assembly:\\n- **Hot Molding Station (HeatMold 360):**\\n  - Operating temperature: up to 200°C.\\n  - Adjustable pressure for a perfect fusion between the EPS core and polycarbonate shell.\\n  - Fast cycle time for production efficiency.\\n\\n### Adjustment System Installation:\\n- **Accessory Assembly Station (AdjustFit 100):**\\n  - Semi-automatic equipment for the installation of adjustment straps, buckles, and padding.\\n  - Integrated tension testing system to ensure the durability of the retention system.\\n\\n### Quality Control:\\n- **Impact Testing Laboratory (ImpactLab Pro):**\\n  - Equipped with impact testing devices according to international standards (CE, CPSC).\\n  - Computerized energy absorption analysis for protection performance validation.\\n  \\n- **Environmental Testing Chamber (EnviroTest 250):**\\n  - Simulation of extreme conditions (UV, humidity, temperature) to test material resistance.\\n  - Evaluation of finish and component durability.\\n\\n### Packaging and Shipping:\\n- **Automated Packaging Line (PackSmart 500):**\\n  - Packaging capacity: up to 500 units/hour.\\n  - Automated sealing and labeling system.\\n  \\n- **Integrated Logistics Management System (LogiTech Suite):**\\n  - Inventory management and dispatch software.\\n  - Integration with tracking systems for delivery monitoring.\\n\\nSafetyRide Helmet Technologies in Taizhou is equipped with the most advanced production technology and rigorous quality control processes to ensure that each Cyclone Pro-Elite Helmet offers the highest level of protection, comfort, and aerodynamics for professional cyclists and cycling enthusiasts.\"\\nSafetyRide Helmet Technologies in Taizhou is equipped with the most advanced production technology and rigorous quality control processes to ensure that each Cyclone Pro-Elite Helmet offers the highest level of protection, comfort, and aerodynamics for professional cyclists and cycling enthusiasts.\"', '\"# 1- Sneaker Pro X100\\n\\n## \"Master the court, control the game.\"\\n\\n### Introduction to the Product:\\nThe Sneaker Pro X100 is a revolution in professional basketball footwear. Developed for athletes seeking superior performance, this sneaker combines cutting-edge technology with an innovative design to offer unparalleled comfort, durability, and agility on the court.\\n\\n# 2- Main Features and Product Indication\\n\\n### General Features:\\nThe Sneaker Pro X100 is recommended for professional basketball players and advanced amateur enthusiasts looking to enhance their court performance. With its advanced cushioning technology, exceptional ankle support, and superior traction, this sneaker is the perfect choice for those wanting to maximize their game.\\n\\n# 3- Technical Product Information\\n\\n- **Ergonomic Design:** Designed to perfectly adapt to the shape of the foot, providing support and comfort.\\n- **Cushioning Technology:** Incorporates innovative foam that absorbs impacts and optimizes energy return.\\n- **Ventilation System:** High-quality breathable mesh, ensuring air circulation and keeping the feet dry.\\n- **Ankle Support Structure:** Integrated reinforcement that offers protection and stability to the ankle during intense movements.\\n\\n# 4- Technical Data Sheet of All Used Materials\\n\\n### Structure and Support:\\n- **Polyester Mesh Upper:** High-performance breathable fabric with a weight of 250g/m², offering flexibility and ventilation.\\n- **Polyurethane (PU) Foam Midsole:** Density of 600 kg/m³, provides superior cushioning and efficient energy return.\\n- **TPU Ankle Reinforcement:** Thermoplastic material with 500% elasticity, ensuring support and protection for the ankle.\\n\\n### Sole:\\n- **Anti-abrasive Rubber:** Made from a blend of natural and synthetic rubber, offers superior grip and durability on various surfaces. The hardness of the rubber is 60 Shore A, optimized for traction on basketball courts.\\n\\n# 5- Manufacturing Process\\n\\n1. **Material Preparation:** Selection and preparation of fabrics, foams, and rubbers, according to technical specifications.\\n2. **Upper Cutting and Assembly:** Cutting of fabric pieces and assembling the upper using high precision sewing machines.\\n3. **Midsole Assembly:** Injection of PU foam into the mold of the midsole, followed by curing at controlled temperature.\\n4. **Sole Manufacturing:** Molding of the anti-abrasive rubber, followed by cutting and finishing to ensure the desired grip and durability.\\n5. **Final Assembly:** Joining the upper, midsole, and sole through a vulcanization press, ensuring the integrity and durability of the sneaker.\\n6. **Quality Control:** Detailed inspection of each pair of sneakers to ensure they meet technical specifications and quality standards.\\n\\n\\n********************\\n\\n## 1- Factory Name:\\nHighTech Sneakers Manufacturing\\n\\n## 2- Factory Location:\\n### Houjie, Dongguan, Guangdong, China\\n\\n## 3- List of Machinery and Processes\\n\\n### Material Preparation:\\n- **Laser Cutting Machine for Fabrics:** Used to precisely cut the polyester mesh upper. Capable of cutting fabrics up to 2 cm thick, with a precision of 0.1 mm.\\n- **Rubber Component Mixer:** To prepare the blend of natural and synthetic rubber. Capacity of 500 liters, with temperature control up to 200°C.\\n\\n### Upper Cutting and Assembly:\\n- **High-Speed Automatic Sewing Machine:** Specific for high-density fabrics. Sewing speed of up to 5000 stitches per minute, with automatic fabric feed system.\\n- **Automated Gluing Station:** To apply adhesives on upper components before assembly. Precise application system with temperature adjustment up to 150°C.\\n\\n### Midsole Assembly:\\n- **PU Foam Injection Machine:** Controls the injection of polyurethane foam precisely, including temperature (up to 130°C) and pressure control. Injection capacity of 2 liters per cycle.\\n\\n### Sole Manufacturing:\\n- **Rubber Vulcanization Press:** Used to mold and vulcanize the anti-abrasive rubber soles. Adjustable pressure up to 2000 bar, with temperature control up to 180°C.\\n\\n### Final Assembly:\\n- **Upper-Sole Joining Press:** Specialized in joining the parts of the sneaker. Exerts uniform pressure of up to 1500 kg, ensuring perfect adherence between parts.\\n- **Automated Quality Control System:** Equipped with high-resolution cameras and sensors for defect detection. Performs dimensional measurements and checks material adherence.\\n\\n### Packaging and Shipping:\\n- **Automated Packaging Line:** For packaging the finished sneakers. Includes a sealing machine, labeler, and automated packing system.\\n- **Integrated Logistics Management System:** For inventory control and dispatch of finished products.\\n\\nThis factory model is designed to ensure efficient and high-quality production of the Sneaker Pro X100, respecting all technical specifications and manufacturing standards required to meet the needs of professional basketball athletes.\"']\n"
     ]
    }
   ],
   "source": [
    "descriptions = []\n",
    "folder_path = 'D:/Git Hub Repos/EcoFactory/server/Notebook/product datasets'\n",
    "files = os.listdir(folder_path)\n",
    "for file in files:\n",
    "    file_name = file\n",
    "    if file_name.endswith('.txt'):\n",
    "        with open(os.path.join(folder_path, file_name), 'r', encoding='utf-8') as file:\n",
    "            text = file.read()\n",
    "            descriptions.append(text)\n",
    "\n",
    "\n"
   ]
  },
  {
   "cell_type": "code",
   "execution_count": null,
   "metadata": {},
   "outputs": [],
   "source": [
    "print(descriptions[2])"
   ]
  },
  {
   "cell_type": "code",
   "execution_count": 82,
   "metadata": {},
   "outputs": [
    {
     "name": "stdout",
     "output_type": "stream",
     "text": [
      "[[-0.039276123, -0.091308594, 0.21606445, 0.2590332, 0.21252441, 0.11279297, 0.34277344, -0.26367188, 0.0309906, 0.42163086, -0.50927734, -0.31176758, -0.28027344, -0.10070801, 0.23864746, 0.022369385, 0.4958496, 0.45898438, -0.24804688, 0.27490234, 0.120666504, 0.60498047, 0.45263672, -0.039978027, -0.13000488, -0.18017578, -0.5385742, 0.10430908, -0.007926941, 0.23034668, 0.17602539, -0.25097656, -0.12561035, 0.47509766, -1.1103516, 0.42578125, -0.22216797, 0.2902832, -0.44970703, 0.34033203, -0.1697998, 0.017211914, -0.22766113, 0.35888672, -0.0029735565, -0.49536133, 0.29638672, 0.23352051, 0.42919922, -0.2548828, -0.22961426, 0.021514893, -0.36816406, 0.093933105, -0.56640625, 0.41210938, -0.07110596, 0.8886719, 0.16625977, -0.0016212463, -0.18286133, 0.2644043, -0.05218506, 0.0052375793, 0.48754883, 0.15197754, -0.093566895, 0.20031738, 0.124572754, 0.21948242, 0.19177246, -0.07446289, 0.15393066, 0.26782227, 0.13586426, 0.014312744, 0.27612305, -0.49975586, 0.19042969, -0.026992798, 0.14697266, -0.10467529, 0.060577393, 0.51464844, 0.23742676, 0.5654297, -0.03378296, -0.02809143, -0.16125488, 0.7236328, -0.06555176, 0.081970215, 0.061767578, 0.2722168, -0.14294434, 0.04269409, 0.13110352, -0.3515625, 0.15429688, -0.1239624, -0.15649414, -0.23156738, -0.15112305, -0.11456299, -0.002149582, -0.32885742, 0.13024902, 0.0826416, -0.034942627, 0.016830444, 0.76708984, -0.123291016, 0.21496582, -0.10601807, 0.7915039, 0.1607666, 0.13378906, -0.07489014, -0.54052734, -1.1103516, 0.7680664, -0.19689941, -0.3491211, 0.2758789, 0.2442627, 0.18884277, 0.46948242, -0.21801758, 0.6171875, 0.3791504, 0.1928711, 0.072265625, 0.17907715, 0.5449219, -0.5209961, 0.2512207, 0.033843994, -0.19042969, -0.0030288696, -0.4267578, 0.11541748, -0.047027588, -0.24926758, 0.27661133, -0.13928223, 0.3161621, -0.25146484, 0.19812012, 0.0054893494, -0.1928711, -0.38012695, -0.1463623, -0.07543945, 0.6147461, -0.45166016, -0.18444824, 0.6743164, 0.07513428, 0.32348633, 0.26000977, 0.67529297, 0.34472656, -0.13635254, -0.52734375, -0.30297852, 0.47802734, 0.47314453, 0.61328125, 0.4716797, -0.0149383545, -0.13098145, -0.03643799, 0.23730469, -0.17443848, 0.35107422, 0.21875, -0.16906738, -0.07562256, 0.0030918121, 0.13427734, 0.49536133, 0.5961914, 0.1340332, 0.6088867, 0.9248047, 0.2685547, 0.5019531, 0.47998047, -0.16784668, -0.23742676, 0.22058105, 0.042236328, 0.76416016, -0.047943115, 0.3400879, 0.34936523, -0.066101074, 0.18701172, -0.46289062, 0.022949219, 0.011077881, 0.28344727, -0.11810303, 0.14196777, 0.44311523, -0.56591797, 0.33276367, -0.16479492, -0.27441406, -0.115234375, -0.04638672, 0.12188721, 0.0073509216, 0.058410645, -0.57666016, 0.12408447, 0.31103516, -0.33618164, 0.5551758, -0.5229492, -0.15771484, 0.56933594, 0.11505127, -0.43188477, -0.1451416, -0.055633545, -0.1899414, -0.19641113, 0.18444824, 0.29174805, 0.20898438, 0.068725586, 0.30029297, -0.04598999, 0.18408203, 0.23510742, 0.70166016, 0.5161133, 0.2993164, -0.31884766, 0.3215332, -0.19226074, -0.2685547, -0.011161804, 0.58447266, -0.48999023, -0.08111572, 0.03286743, -0.3466797, 0.11224365, 0.056274414, 0.2163086, -0.10687256, 0.2397461, -0.5253906, -0.11114502, 0.12432861, -0.62646484, 0.35742188, -0.26367188, 0.010559082, -0.007736206, 0.26245117, 0.6035156, 0.04574585, 0.30273438, 0.029296875, 0.53564453, 0.072509766, 0.25854492, 0.21203613, -0.20605469, 0.06185913, 0.29833984, 0.07775879, -0.17285156, 0.33325195, -0.12719727, -0.5073242, -0.031799316, 0.60009766, -0.25390625, -0.5678711, 0.05001831, 0.40307617, 0.44873047, 0.35253906, -0.09729004, -0.097595215, -0.18652344, 0.7036133, 0.5576172, 0.030792236, -0.087402344, 0.14367676, 0.19372559, -0.22302246, 0.14758301, 0.3413086, -0.2298584, 0.6386719, -0.20922852, 0.2084961, 0.5288086, -0.22314453, -0.7006836, -0.48266602, 0.5053711, 0.14050293, 0.058746338, 0.5390625, -0.1595459, -0.20153809, -0.12939453, 0.19067383, 0.40576172, 0.2692871, 0.30444336, 0.37158203, 0.06518555, -0.020462036, 0.074279785, -0.56347656, 0.08581543, 0.5258789, -0.33935547, -0.43945312, -0.28686523, 0.33496094, 0.021881104, 0.22436523, 0.14880371, -0.27001953, 0.28759766, -0.11987305, 0.3076172, -0.13671875, 0.421875, -0.22436523, -0.5136719, -0.2088623, -0.1743164, -0.25634766, 0.1015625, 0.1295166, 0.33544922, 0.09313965, -0.17285156, 0.1776123, -0.390625, 0.4309082, 0.07208252, -0.2241211, 0.21582031, -0.3737793, 0.24133301, 0.21936035, 0.30566406, 0.11419678, -0.21118164, 0.44018555, 0.10821533, -0.18701172, -0.5053711, 0.12322998, 0.3059082, 0.23950195, -0.14013672, 0.27001953, 0.26367188, 0.44433594, 0.11425781, -0.26464844, 0.22424316, -0.58691406, -0.23498535, 0.20349121, 0.28271484, 0.29663086, 0.06713867, 0.34204102, 0.38354492, 0.16003418, -0.47436523, 0.009338379, -0.4321289, -0.60498047, 0.30688477, 0.10455322, -0.3635254, 0.20568848, -0.20861816, -0.012573242, -0.68408203, -0.49609375, 0.097229004, -0.56103516, 0.6899414, -0.15991211, -0.07397461, -0.1772461, 0.115600586, -0.05831909, 0.52490234, 4.1445312, 0.11395264, 0.4267578, 0.4951172, -0.47045898, -0.22924805, -0.3671875, 0.12084961, 0.05102539, 0.19836426, -0.62597656, 0.51220703, -0.32983398, 0.105651855, -0.23925781, 0.1817627, 0.29418945, -0.2166748, 0.3491211, 0.62841797, -0.5073242, 0.3125, 0.12792969, 0.40307617, 0.05355835, 0.49731445, 0.11462402, 0.26708984, 0.59521484, 0.20080566, 0.21325684, 0.10498047, 0.14147949, 0.52734375, -0.33447266, -0.39331055, 0.34838867, 0.34375, -0.38208008, 0.44213867, 0.045837402, -0.052734375, 0.30664062, 0.7138672, 0.41748047, 0.07574463, -0.22753906, 0.7680664, 0.15014648, 0.09020996, 0.32495117, 0.09295654, -0.09851074, -0.27783203, 0.013977051, 0.33618164, -0.12225342, 0.42993164, -0.33642578, 0.4519043, 0.4897461, -0.09106445, 0.48217773, -0.37597656, -0.6748047, -0.13745117, 0.34106445, 0.07116699, 0.034484863, -0.30395508, -0.03338623, 0.40893555, 0.2590332, -0.1427002, 0.07220459, -0.048553467, -0.44360352, -0.032684326, -0.3305664, 0.6254883, 0.38330078, -0.14929199, 0.17260742, 0.11621094, -0.23461914, 0.5, -0.15454102, -0.15344238, 0.65283203, -0.032928467, 0.42651367, 0.4350586, 0.04788208, 0.16748047, 0.03668213, 0.22021484, -0.10443115, -3.9042969, 0.054473877, 0.10467529, -0.13354492, 0.0053710938, 0.029190063, 0.5180664, 0.19018555, -0.69970703, 0.3557129, 0.043914795, 0.31884766, -0.1796875, 0.14526367, 0.24951172, 0.016723633, 0.105895996, 0.28295898, -0.11663818, 0.010040283, 0.56103516, 0.6611328, 0.24291992, -0.38256836, -0.16552734, 0.42919922, -0.24499512, 0.28442383, 0.036102295, -0.12414551, -0.39233398, -0.3359375, 0.19604492, -0.14404297, -0.012275696, 0.24707031, 0.81689453, 0.2565918, -0.11444092, 0.35888672, -0.035095215, -0.07928467, 0.09857178, 0.22875977, 0.15063477, 0.040863037, -0.2783203, 0.24963379, 0.05569458, 0.17102051, 0.5708008, 0.30151367, -0.14257812, 0.012634277, 0.60595703, 0.10858154, 0.7973633, 0.1194458, 0.08843994, 0.3647461, -0.2130127, -0.26416016, 0.34716797, -0.12780762, -0.5024414, -0.21447754, -0.0043296814, 0.080200195, 0.3227539, -0.10668945, 0.13696289, 0.15112305, 0.16223145, -0.56396484, 0.10723877, 0.32910156, -0.13354492, 0.2397461, 0.30615234, 0.40234375, 0.06793213, 0.46411133, -0.39453125, -0.119628906, 2.5683594, 0.75146484, 2.1660156, 0.085754395, -0.1060791, 0.34423828, 0.13659668, -0.16821289, -0.052093506, 0.19396973, -0.08343506, 0.39697266, -0.37939453, 0.41015625, -0.45483398, -0.38476562, 0.29052734, -0.99902344, 0.25854492, -0.3347168, -0.12084961, 0.33398438, -0.07385254, 0.2800293, 0.3149414, -0.3125, -0.21130371, -0.35913086, -0.024124146, -0.32250977, -0.23913574, 0.375, 0.5234375, 0.25878906, -0.088256836, 0.61035156, 0.0814209, 4.609375, -0.16174316, -0.1439209, 0.09289551, 0.24047852, -0.06112671, 0.101379395, 0.07281494, -0.058044434, 0.053009033, 0.4633789, 0.24414062, 0.55078125, -0.28979492, 0.23425293, -0.0048599243, 0.33764648, 0.40966797, 0.10369873, -0.03994751, 0.34155273, 0.26904297, 0.48608398, -0.47021484, 0.43237305, 0.29516602, -0.38085938, 0.6352539, -0.077941895, 0.14233398, 0.3803711, 5.2226562, 0.20922852, -0.034118652, -0.40551758, -0.3388672, 0.07537842, 0.15783691, -0.3942871, -0.30249023, 0.068115234, -0.0005893707, 0.30615234, -0.29833984, 0.734375, 0.2142334, 0.41088867, -0.48095703, -0.2607422, 0.045196533, -0.05984497, 0.4428711, 0.15905762, 0.19628906, -0.24023438, -0.05819702, -0.0859375, 0.04763794, 0.18725586, -0.011161804, 0.36791992, 0.41992188, 0.43188477, -0.118652344, 0.5878906, -0.4333496, 0.057434082, 0.6826172, 0.6147461, 0.19824219, 0.15515137, 0.5385742, 0.37573242, 0.26660156, -0.38183594, 0.56591797, 0.39916992, -0.13513184, 0.055267334, 0.04055786, -0.27148438, -0.11029053, 0.39208984, 0.5756836, 0.36450195, 0.06173706, 0.4885254, 0.9165039, 0.037322998, 0.27026367, 0.50927734, 0.7001953, 0.31274414, 0.31689453, 0.4404297, 0.2915039, 0.010810852, 0.78808594, 0.057922363, 0.44067383, 0.02015686, -0.35473633, 0.17053223, -0.10992432, 0.32421875, 0.075805664, -0.054595947, -0.3137207, -0.17858887, 0.24584961, -0.33520508, -0.1027832, -0.12005615, -0.22729492, -0.12890625, -0.46606445, -0.38061523, -0.16967773, 0.18371582, 0.12670898, 0.04534912, 0.6948242, 0.3022461, 0.048706055, 0.051757812, 0.31713867, -0.26660156, 0.13867188, 0.29467773, -0.19628906, 0.5522461, -0.2841797, 0.27026367, 0.33374023, -0.14660645, 0.18237305, -0.17163086, -0.022476196, 0.20617676, -0.07659912, 0.095825195, 0.4350586, 0.5732422, -0.066345215, 0.1796875, 0.35180664]]\n",
      "[[0.2010498, 0.23669434, 0.7285156, -0.21984863, 0.20275879, 0.1274414, 0.32055664, -0.42236328, 0.048858643, -0.1262207, -0.5371094, -0.35595703, 0.3840332, 0.23815918, -0.079589844, -0.0011339188, 0.57714844, 0.265625, 0.0368042, -0.58935547, 0.21264648, 0.29003906, 0.49047852, -0.41601562, 0.21704102, 0.15588379, -0.7504883, -0.03149414, -0.19458008, 0.1920166, 0.24536133, -0.04660034, 0.01928711, 0.5854492, -0.7758789, 0.4675293, -0.068603516, 0.27734375, -0.06921387, 0.20373535, -0.055480957, -0.049072266, 0.04071045, 0.34277344, -0.05419922, 0.023788452, 0.3918457, -0.032226562, 0.4465332, -0.2993164, 0.080200195, 0.00023078918, -0.23376465, -0.23364258, -0.65234375, 0.21166992, -0.10266113, 0.9536133, 0.5996094, 0.18139648, -0.021209717, -0.28686523, 0.32104492, -0.66748047, -0.08026123, -0.19836426, 0.3540039, 0.10247803, 0.42211914, -0.16430664, 0.19006348, 0.17382812, 0.5566406, 0.7055664, 0.56396484, -0.15795898, 0.31274414, -0.2836914, 0.61376953, -0.46020508, -0.23034668, 0.15844727, 0.15771484, 0.074157715, 0.3293457, 0.54589844, -0.23059082, 0.4243164, 0.48291016, 0.33447266, -0.08691406, 0.41967773, -0.21484375, -0.17053223, 0.011131287, 0.032958984, 0.09716797, -0.39453125, 0.14404297, -0.27954102, 0.22875977, -0.17285156, 0.08508301, 0.49389648, 0.0947876, -0.2932129, -0.5600586, 0.54589844, -0.41796875, 0.28955078, 0.6064453, -0.11584473, 0.25048828, -0.13317871, 0.9760742, -0.028305054, 0.41674805, 0.08013916, -0.22094727, -1.0683594, 0.5908203, 0.01247406, -0.4567871, -0.12438965, 0.24316406, -0.16467285, 0.38793945, 0.0073928833, 0.45532227, -0.05239868, 0.5703125, -0.033477783, 0.15686035, 0.3972168, -0.35009766, 0.38745117, -0.026992798, 0.07763672, 0.11413574, -0.4572754, 0.012435913, -0.06530762, 0.009216309, 0.10473633, 0.25708008, -0.3076172, 0.25683594, 0.1640625, -0.12609863, 0.0770874, -0.028839111, 0.12536621, -0.14746094, 0.26953125, -0.11602783, -0.34814453, 0.79833984, -0.69384766, 0.2076416, -0.095947266, 0.8588867, 0.4152832, 0.16918945, -0.3034668, 0.075927734, 0.15454102, 0.5751953, 0.5283203, 0.3232422, -0.15148926, -0.05444336, 0.25708008, -0.24853516, 0.10986328, 0.35009766, 0.43017578, -0.11480713, 0.03881836, -0.20324707, 0.28955078, -0.30737305, -0.070129395, -0.06530762, 0.79833984, 0.86279297, 0.3815918, 0.051361084, 0.4560547, -0.43920898, -0.0029964447, 0.06536865, -0.108947754, 0.9921875, -0.2956543, -0.2006836, 0.25756836, 0.30322266, 0.25341797, -0.23327637, 0.21679688, 0.52441406, 0.068847656, -0.16491699, 0.24523926, 0.38842773, -0.52685547, -0.28125, -0.5620117, -0.04888916, 0.123413086, 0.10601807, 0.012290955, 0.34301758, -0.19116211, -0.40673828, 0.40014648, -0.3395996, -0.18139648, 0.45751953, -0.22705078, -0.061523438, 0.81884766, 0.11987305, -0.2010498, -0.047912598, -0.1459961, 0.009353638, -0.5048828, 0.17321777, -0.5229492, 0.91796875, 0.5986328, 0.33447266, 0.41601562, 0.39648438, 0.32543945, 0.5419922, 0.02305603, 0.12976074, -0.36499023, 0.5073242, 0.35717773, -0.03274536, 0.33447266, 0.59375, 0.30859375, -0.20959473, 0.1038208, -0.43896484, -0.28076172, 0.31713867, 0.7817383, -0.69384766, 0.12976074, -0.62890625, 0.39111328, -0.040740967, 0.25952148, 0.2052002, -0.027801514, -0.27172852, 0.062805176, 0.085998535, 0.63671875, 0.044189453, 0.37719727, -0.007335663, 0.32910156, 0.003967285, 0.07739258, 0.49047852, -0.5161133, -0.39794922, 0.5683594, -0.14709473, -0.56103516, 0.48388672, 0.08935547, -0.6035156, -0.16955566, 0.35961914, -0.35327148, -0.6459961, -0.08508301, 0.15283203, 0.9609375, -0.32958984, -0.59033203, -0.14782715, 0.39672852, 0.1928711, 0.45288086, 0.13000488, -0.09118652, 0.26879883, 0.86816406, 0.3137207, 0.26953125, 0.40112305, -0.23278809, 0.29052734, -0.9067383, 0.16540527, 0.49780273, -0.4260254, -0.34643555, -0.018234253, 0.17102051, 0.1116333, 0.34375, 0.26123047, -0.35375977, -0.0826416, 0.24829102, 0.18713379, 0.37451172, 0.30419922, 0.12524414, 0.859375, 0.5253906, -0.5136719, -0.61621094, -0.24108887, -0.2902832, 0.054107666, -0.35961914, 0.06512451, -0.65283203, -0.041870117, -0.19946289, 0.07800293, -0.037841797, -0.43041992, -0.2446289, -0.33666992, 0.16564941, 0.14978027, 0.18896484, 0.0064888, -0.7397461, -0.15759277, 0.14868164, 0.05581665, -0.059570312, -0.045043945, 0.091674805, 0.2442627, -0.24914551, -0.103149414, 0.105041504, 0.6191406, -0.00944519, -0.09967041, -0.06500244, -0.095703125, 0.21069336, -0.01737976, 0.38623047, -0.047576904, -0.3076172, 0.35229492, 0.66552734, 0.56933594, -0.08129883, 0.36523438, 0.016326904, 0.2758789, -0.13549805, -0.3083496, 0.5048828, 0.36401367, 0.09527588, -0.41088867, 0.115356445, -0.89453125, -0.42236328, 0.19519043, 0.0017309189, 0.50634766, 0.36206055, -0.22729492, 0.6347656, 0.6484375, -0.41992188, 0.06378174, -0.44921875, -0.30322266, 0.5151367, 0.3720703, -0.45629883, 0.6191406, -0.31103516, 0.29492188, -0.47509766, 0.02796936, -0.09295654, -0.4831543, 0.7241211, 0.40063477, -0.13879395, -0.039855957, 0.023742676, 0.21972656, 0.25756836, 4.046875, -0.0791626, 0.4975586, 0.46191406, -0.33544922, 0.26098633, 0.16625977, -0.37646484, -0.06561279, 0.23962402, 0.16723633, 0.55322266, -0.23217773, 0.41210938, -0.33154297, 0.111083984, 0.4609375, 0.3293457, -0.039642334, 0.2758789, -0.5571289, 0.60058594, 0.26831055, -0.009536743, 0.3557129, 0.70410156, 0.031555176, 0.43945312, 0.7631836, 0.11212158, 0.23364258, 0.05227661, 0.06573486, 0.55859375, -0.15270996, -0.05508423, 0.3737793, 0.2788086, 0.23571777, 0.24902344, -0.12915039, 0.08258057, 0.07324219, 0.47192383, 0.03314209, -0.18664551, -0.04937744, 0.24719238, -0.20214844, 0.013626099, 0.54833984, -0.30688477, -0.14733887, 0.011665344, 0.13000488, 0.33618164, -0.17749023, -0.067993164, 0.12194824, -0.20007324, 0.36035156, 0.07312012, 0.104003906, -0.24621582, -0.3334961, -0.31225586, 0.5, -0.26904297, 0.35327148, -0.35791016, -0.17492676, 0.5683594, -0.07336426, -0.2709961, -0.08691406, 0.18249512, -0.20385742, 0.27270508, -0.015579224, 0.06573486, 0.6044922, -0.34838867, -0.10345459, 0.25610352, -0.08618164, 0.5566406, 0.24536133, -0.07788086, 0.6699219, -0.31201172, 0.83154297, -0.3557129, 0.017745972, 0.56396484, -0.58251953, -0.11975098, 0.25219727, -3.8789062, -0.00674057, 0.37963867, -0.35986328, -0.019119263, 0.28222656, 0.1928711, 0.30981445, -0.7211914, 0.64208984, 0.041229248, 0.18713379, -0.10498047, -0.15148926, 0.054595947, 0.12756348, 0.5361328, 0.23010254, -0.28393555, -0.04977417, 0.1505127, 1.3623047, 0.27001953, -0.4794922, -0.046722412, 0.46606445, 0.059326172, -0.2619629, -0.19665527, -0.04714966, -0.3425293, 0.43725586, 0.06762695, 0.14001465, 0.08526611, 0.07611084, 0.65966797, 0.6425781, 0.0057907104, 0.17272949, -0.068481445, 0.13989258, 0.002735138, -0.21972656, -0.041381836, -0.09124756, -0.25439453, -0.16394043, 0.124572754, -0.1743164, 0.3635254, 0.14575195, 0.042266846, -0.1899414, 0.9536133, 0.2680664, 0.01889038, 0.1694336, 0.35302734, 0.48999023, -0.08660889, -0.13977051, 0.34106445, 0.54785156, -0.86083984, 0.17199707, 0.37841797, 0.16333008, 0.15246582, 0.0132751465, 0.020858765, 0.45947266, 0.42163086, -0.2487793, 0.32128906, 0.3383789, -0.15856934, -0.3330078, 0.8232422, 0.11804199, -0.03982544, 0.3713379, -0.4736328, 0.26000977, 2.6425781, 0.6640625, 2.0878906, 0.34106445, -0.6821289, 0.33618164, -0.5854492, 0.42407227, -0.05697632, 0.36328125, 0.4650879, 0.2175293, -0.25463867, 0.11273193, -0.29492188, -0.20593262, 0.52490234, -0.7446289, 0.21569824, 0.19873047, -0.09259033, 0.18457031, -0.079711914, 0.24511719, 0.19360352, 0.114990234, -0.46166992, 0.021453857, 0.1303711, 0.031921387, -0.12042236, 0.8408203, 0.31298828, 0.2479248, -0.11682129, 0.5229492, 0.12060547, 4.5898438, -0.06222534, -0.57177734, -0.007534027, -0.5395508, 0.6982422, -0.10571289, -0.06298828, 0.3227539, -0.33764648, 0.32299805, 0.29174805, 0.27124023, 0.38378906, -0.04815674, -0.31591797, 0.19299316, 0.5161133, 0.13305664, 0.14294434, 0.3984375, 0.25341797, 0.2232666, -0.017974854, 0.024490356, 0.5151367, 0.24804688, -0.13989258, -0.079833984, 0.010322571, -0.6254883, 5.1953125, -0.06530762, 0.3466797, 0.039764404, 0.11419678, 0.27612305, 0.089782715, -0.7314453, -0.4555664, 0.1907959, -0.09887695, 0.27734375, 0.035247803, -0.15014648, 0.35131836, -0.13537598, -0.38598633, -0.35717773, 0.05078125, -0.17321777, 0.16418457, -0.049957275, 0.053985596, -0.0030288696, 0.019943237, -0.4387207, 0.087524414, 0.09442139, -0.00374794, 0.7285156, 0.50146484, -0.0070495605, -0.21801758, 0.2578125, -0.41186523, 0.1661377, 0.40063477, 0.6357422, 0.6308594, 0.15429688, 0.72216797, 0.2298584, -0.26342773, -0.13757324, 0.2401123, 0.20239258, 0.030761719, 0.028076172, 0.26342773, -0.33081055, -0.25927734, 0.34057617, 0.35498047, 0.37451172, 0.48413086, 0.40942383, 0.9326172, -0.2680664, 0.21728516, 0.23962402, 0.42041016, 0.20397949, 0.4482422, 0.4169922, 0.3959961, 0.2434082, -0.078063965, -0.099121094, 0.27075195, -0.25585938, -0.26000977, -0.03201294, -0.006011963, 0.27563477, 0.018173218, 0.11401367, 0.18444824, -0.19165039, -0.01133728, 0.003206253, 0.06732178, 0.08099365, -0.06500244, -0.60498047, 0.08325195, -0.25683594, -0.1619873, 0.023788452, -0.46411133, -0.015609741, 0.37109375, 0.41210938, -0.6557617, 0.30371094, 0.78027344, -0.31396484, 0.09802246, 0.041900635, 0.11798096, 0.26611328, -0.19396973, -0.034942627, 0.24682617, -0.07556152, 0.23803711, -0.4675293, -0.049041748, -0.31958008, -0.15014648, 0.19055176, 0.4140625, 0.3173828, -0.15625, 0.0463562, 0.39672852]]\n",
      "[[0.36938477, 0.22924805, 0.23120117, -0.036315918, -0.41625977, 0.32104492, 0.13989258, -0.43310547, -0.114990234, -0.046081543, -0.41064453, -0.37304688, 0.125, 0.02053833, 0.3408203, -0.29833984, 0.6381836, 0.11846924, -0.008117676, -0.26782227, -0.06317139, 0.57373047, 0.17175293, -0.41552734, 0.25341797, -0.2685547, -0.45532227, 0.049072266, 0.16955566, -0.08282471, 0.08886719, -0.18640137, -0.016281128, 0.65625, -1.0488281, 0.26489258, -0.0869751, 0.12384033, -0.20837402, 0.5493164, 0.1661377, -0.0657959, 0.39916992, 0.23425293, 0.02748108, 0.37817383, 0.15112305, 0.083496094, 0.4572754, 0.09307861, 0.1842041, -0.088012695, -0.05154419, 0.12756348, -0.70947266, -0.14074707, 0.019470215, 0.7006836, 0.51464844, 0.11859131, 0.1751709, -0.2401123, 0.23596191, -0.36328125, -0.25976562, 0.15466309, 0.72753906, -0.10412598, -0.070739746, -0.03100586, -0.16882324, 0.35839844, 0.5527344, 0.47265625, 0.63916016, -0.16516113, 0.28588867, 0.09106445, 0.5107422, -0.39746094, -0.18273926, -0.39819336, 0.28125, 0.19836426, 0.1842041, 0.5058594, 0.12878418, 0.24450684, 0.111816406, 0.23364258, -0.29882812, 0.35742188, 0.37768555, -0.10839844, 0.052337646, 0.39526367, -0.013877869, -0.8979492, -0.019546509, -0.2479248, 0.1986084, -0.05557251, -0.1451416, 0.22265625, -0.16442871, -0.38378906, -0.1586914, 0.6147461, 0.03286743, 0.24829102, 0.8520508, -0.24645996, 0.5698242, -0.026977539, 0.27539062, 0.16088867, 0.390625, 0.12731934, -0.3022461, -0.71484375, 0.61572266, 0.2454834, -0.40893555, 0.027740479, 0.56152344, -0.39208984, 0.50097656, 0.004524231, 0.55322266, 0.058044434, 0.5102539, -0.009216309, 0.084472656, 0.54345703, -0.27929688, 0.26489258, -0.07495117, -0.6953125, -0.06500244, -0.39941406, 0.0791626, -0.21276855, 0.12182617, 0.08276367, 0.15234375, -0.122558594, -0.074279785, 0.6958008, 0.1361084, 0.39208984, 0.024154663, 0.2368164, -0.02758789, 0.27905273, 0.17529297, -0.38232422, 0.47216797, -0.6171875, 0.21801758, -0.13842773, 0.82373047, 0.3798828, -0.050109863, -0.22924805, 0.25317383, 0.10455322, 0.50878906, 0.5234375, 0.35180664, -0.25610352, -0.27490234, 0.12512207, 0.1973877, 0.48535156, 0.34375, 0.1817627, -0.2541504, 0.012832642, 0.17529297, 0.60058594, -0.08770752, 0.19812012, 0.3178711, 0.52783203, 0.5908203, 0.21520996, 0.22094727, 0.41479492, -0.6044922, 0.17858887, -0.22521973, -0.11883545, 0.9589844, -0.29345703, 0.07550049, 0.21508789, 0.04852295, 0.48779297, -0.3149414, 0.63964844, 0.34936523, -0.3828125, -0.0362854, 0.117248535, 0.35546875, -0.3605957, 0.082458496, -0.37524414, -0.32080078, 0.013496399, -0.2602539, 0.07385254, -0.35546875, 0.12634277, -0.30786133, 0.42163086, -0.32470703, -0.20776367, 0.5996094, -0.2861328, -0.1303711, 0.61035156, 0.111572266, -0.4440918, 0.18103027, -0.4477539, -0.0016078949, -0.4675293, 0.07183838, -0.21655273, 0.21411133, 0.44750977, 0.043823242, 0.8378906, 0.43530273, 0.09765625, 0.19799805, -0.12573242, -0.12915039, -0.31396484, 0.45629883, 0.41381836, -0.1586914, 0.15625, 0.82421875, -0.40454102, 0.19946289, -0.36157227, -0.5024414, -0.18115234, 0.047790527, 0.5761719, -0.65478516, 0.49682617, -0.53222656, 0.45361328, 0.3388672, 0.22644043, 0.02407837, 0.18261719, 0.42993164, -0.51904297, 0.30029297, 0.71191406, -0.06616211, 0.24914551, 0.25830078, 0.5205078, -0.059906006, 0.54003906, 0.6933594, -0.5107422, -0.44750977, 0.5830078, -0.1348877, -0.14538574, -0.4074707, -0.066467285, -0.3894043, 0.025009155, 0.2277832, 0.04437256, -0.38916016, 0.35839844, 0.14074707, 0.6923828, -0.4465332, -0.4741211, -0.19433594, -0.1895752, -0.08496094, 0.73535156, 0.1595459, -0.29614258, -0.15405273, -0.07507324, -0.1227417, 0.40454102, 0.30541992, -0.0680542, 0.58935547, -0.60058594, 0.28149414, 0.34521484, -0.3918457, -0.4309082, -0.37426758, 0.04437256, 0.055236816, 0.15966797, 0.48706055, -0.18432617, -0.055999756, 0.57128906, 0.039764404, 0.48828125, -0.29663086, -0.016326904, 0.82666016, 0.4284668, -0.6455078, -0.40014648, -0.19921875, -0.046936035, 0.08673096, -0.014175415, -0.3479004, -0.33666992, 0.039245605, -0.18676758, -0.0016031265, -0.21740723, -0.40185547, -0.25830078, -0.5957031, 0.33374023, 0.0357666, 0.03274536, 0.08453369, -0.6035156, -0.07836914, 0.0847168, -0.072387695, -0.15698242, -0.024414062, 0.21582031, 0.2109375, 0.037750244, 0.20935059, 0.39648438, 0.97021484, -0.07495117, -0.3310547, 0.15649414, 0.31323242, 0.17370605, -0.24816895, -0.18054199, 0.021896362, -0.23693848, 0.6713867, 0.21716309, 0.04232788, -0.01574707, 0.43481445, 0.96777344, 0.76171875, -0.49072266, -0.06842041, 0.8540039, 0.4880371, 0.1652832, -0.25927734, -0.12060547, -0.765625, -0.5136719, 0.13208008, 0.20471191, 0.41430664, 0.30200195, -0.41503906, 0.73583984, 0.13366699, -0.24414062, 0.30664062, -0.10308838, -0.23303223, 0.53027344, 0.29785156, -0.39208984, 0.09753418, -0.23461914, 0.057495117, -0.0124435425, -0.073791504, 0.22729492, -0.44335938, 0.7841797, 0.4567871, 0.0041007996, 0.14379883, 0.5175781, 0.3959961, 0.20922852, 4.109375, 0.15319824, 0.19335938, 0.37548828, 0.037597656, -0.23742676, 0.40014648, -0.25146484, 0.07043457, 0.02229309, 0.18786621, 0.17260742, -0.27392578, 0.7402344, -0.22424316, 0.28466797, 0.35351562, 0.24584961, -0.39746094, 0.39208984, -0.5126953, 0.46044922, 0.34326172, 0.21374512, 0.44702148, 0.84228516, 0.53466797, 0.3491211, 0.8754883, 0.21728516, 0.12817383, -0.31176758, 0.08728027, 0.46899414, -0.3166504, 0.09057617, 0.119018555, 0.31518555, 0.124816895, 0.36767578, -0.19506836, -0.15942383, 0.6567383, 0.4025879, 0.060150146, -0.27807617, -0.23950195, 0.8618164, 0.40234375, 0.096191406, 0.5131836, 0.15930176, -0.16308594, -0.47753906, -0.14550781, 0.15612793, -0.11431885, 0.29907227, -0.4699707, 0.071777344, 0.31030273, -0.49121094, 0.39233398, 0.053009033, -0.38232422, 0.08178711, 0.13171387, 0.19519043, 0.27294922, -0.35961914, -0.060516357, 0.44628906, 0.05493164, -0.11138916, -0.30932617, -0.18981934, 0.14038086, 0.08117676, 0.3005371, 0.5029297, 0.57958984, -0.10632324, 0.4794922, 0.11236572, -0.12646484, 0.7314453, 0.0008482933, -0.27734375, 0.45410156, -0.0881958, 0.99560547, -0.35791016, -0.32080078, -0.16394043, -0.2680664, -0.23901367, 0.5878906, -3.7792969, 0.18347168, 0.3720703, 0.4597168, -0.11541748, 0.036468506, 0.14404297, 0.4951172, -0.6015625, 0.25341797, 0.0018177032, 0.10180664, 0.11151123, 0.14892578, -0.30639648, 0.21069336, -0.51123047, 0.28344727, -0.15393066, -0.18139648, 0.44213867, 1.0976562, -0.14978027, -0.4777832, 0.4909668, 0.5473633, 0.47460938, 0.26391602, 0.052642822, -0.20227051, 0.2607422, 0.16931152, -0.14916992, 0.13330078, 0.3540039, 0.4416504, 0.71435547, 0.45996094, 0.060058594, 0.32495117, 0.04647827, -0.083496094, 0.20349121, 0.09429932, 0.22546387, -0.18591309, -0.3330078, -0.17565918, 0.23156738, -0.22216797, 0.42285156, 0.24414062, -0.2644043, -0.15307617, 0.85791016, 0.17346191, 0.19848633, -0.020263672, 0.24328613, 0.11639404, -0.14245605, -0.07989502, 0.0993042, 0.48901367, -0.39501953, -0.05783081, 0.30737305, -0.07574463, 0.65625, -0.037139893, -0.43920898, 0.16381836, 0.2565918, -0.25390625, 0.1574707, 0.06201172, 0.027160645, 0.10668945, 0.68603516, 0.20214844, 0.1373291, 0.12878418, -0.32128906, 0.049743652, 2.5878906, 0.21398926, 2.0136719, -0.19042969, -0.43579102, 0.5029297, -0.7573242, 0.13964844, 0.0060195923, 0.15942383, 0.017410278, 0.12927246, -0.29223633, 0.14221191, -0.49780273, -0.21191406, 0.48486328, -0.76220703, -0.20275879, 0.20263672, -0.19958496, 0.000875473, -0.27441406, -0.024765015, 0.7836914, -0.5415039, -0.26123047, 0.06506348, -0.057556152, 0.0927124, -0.14550781, 0.38476562, 0.77734375, 0.24853516, -0.06298828, 0.61816406, 0.35888672, 4.5742188, -0.09979248, -0.16271973, -0.1661377, -0.32006836, 0.06072998, 0.25561523, 0.36669922, 0.14611816, 0.1081543, 0.07531738, -0.07501221, -0.08734131, 0.23791504, -0.2709961, -0.083496094, -0.2548828, 0.74560547, 0.6982422, 0.050750732, 0.1743164, 0.06817627, 0.22631836, -0.040985107, -0.066101074, 0.4873047, -0.042907715, -0.12695312, 0.034484863, 0.15979004, -0.5473633, 5.2382812, 0.3125, -0.14904785, -0.21057129, -0.13696289, 0.08288574, 0.17419434, -0.7270508, -0.609375, 0.11236572, -0.07952881, 0.32739258, -0.47460938, -0.21191406, 0.24743652, 0.44873047, -0.25195312, 0.043792725, 0.3256836, -0.34179688, 0.011749268, 0.49975586, 0.19763184, 0.13208008, 0.3569336, -0.52490234, -0.017120361, 0.41259766, -0.2487793, 0.4814453, 0.4934082, -0.12890625, -0.097351074, 0.5576172, -0.36376953, 0.27661133, 0.35668945, 0.29785156, 1.0380859, 0.04586792, 0.4309082, 0.37060547, -0.67578125, -0.44921875, 0.25805664, -0.06402588, -0.26098633, 0.26733398, 0.047912598, -0.08831787, -0.05871582, -0.14147949, 0.29077148, 0.43359375, 0.30688477, 0.23803711, 0.95996094, 0.10675049, 0.39013672, 0.26171875, 0.5366211, 0.39453125, 0.046325684, 0.34179688, 0.28393555, 0.54589844, 0.007587433, -0.050750732, 0.018615723, -0.28637695, -0.21948242, 0.06890869, 0.49780273, 0.4921875, -0.17285156, -0.03466797, 0.09069824, -0.031921387, 0.07147217, -0.37329102, 0.5292969, -0.22668457, -0.64990234, -0.3232422, -0.30493164, -0.56933594, -0.120910645, -0.20202637, 0.36767578, 0.21789551, 0.4020996, 0.39013672, -0.3256836, -0.00434494, 0.5839844, -0.026000977, -0.46972656, 0.09442139, -0.12030029, 0.5131836, -0.4987793, 0.32055664, 0.2590332, 0.12805176, -0.085876465, -0.67333984, -0.03491211, 0.17077637, 0.079833984, 0.35546875, 0.33764648, 0.4321289, 0.025863647, -0.21948242, 0.14733887]]\n"
     ]
    }
   ],
   "source": [
    "# vectors = []\n",
    "import ast\n",
    "ids = ['A','B','C']\n",
    "\n",
    "for id, description in zip(ids, descriptions):\n",
    "    \n",
    "    description = [description]\n",
    "    response = co.embed(texts=description, model='multilingual-22-12').embeddings\n",
    "    print(response)\n",
    "    # vectors.append(response)\n",
    "    index.upsert(vectors=zip(id,response))\n",
    "   \n",
    "    \n",
    "    "
   ]
  },
  {
   "cell_type": "code",
   "execution_count": 83,
   "metadata": {},
   "outputs": [
    {
     "data": {
      "text/plain": [
       "{'dimension': 768,\n",
       " 'index_fullness': 0.0,\n",
       " 'namespaces': {},\n",
       " 'total_vector_count': 0}"
      ]
     },
     "execution_count": 83,
     "metadata": {},
     "output_type": "execute_result"
    }
   ],
   "source": [
    "index.describe_index_stats()"
   ]
  },
  {
   "cell_type": "code",
   "execution_count": null,
   "metadata": {},
   "outputs": [],
   "source": [
    "# %pip install pandas"
   ]
  },
  {
   "cell_type": "code",
   "execution_count": 53,
   "metadata": {},
   "outputs": [
    {
     "data": {
      "text/html": [
       "<div>\n",
       "<style scoped>\n",
       "    .dataframe tbody tr th:only-of-type {\n",
       "        vertical-align: middle;\n",
       "    }\n",
       "\n",
       "    .dataframe tbody tr th {\n",
       "        vertical-align: top;\n",
       "    }\n",
       "\n",
       "    .dataframe thead th {\n",
       "        text-align: right;\n",
       "    }\n",
       "</style>\n",
       "<table border=\"1\" class=\"dataframe\">\n",
       "  <thead>\n",
       "    <tr style=\"text-align: right;\">\n",
       "      <th></th>\n",
       "      <th>id</th>\n",
       "      <th>extracted_text</th>\n",
       "    </tr>\n",
       "  </thead>\n",
       "  <tbody>\n",
       "    <tr>\n",
       "      <th>0</th>\n",
       "      <td>Conventional Oil Desalter</td>\n",
       "      <td>[[-0.039276123, -0.091308594, 0.21606445, 0.25...</td>\n",
       "    </tr>\n",
       "    <tr>\n",
       "      <th>1</th>\n",
       "      <td>Cyclone Pro-Elite Helmet</td>\n",
       "      <td>[[0.2010498, 0.23669434, 0.7285156, -0.2198486...</td>\n",
       "    </tr>\n",
       "    <tr>\n",
       "      <th>2</th>\n",
       "      <td>Sneaker Pro X100</td>\n",
       "      <td>[[0.36938477, 0.22924805, 0.23120117, -0.03631...</td>\n",
       "    </tr>\n",
       "  </tbody>\n",
       "</table>\n",
       "</div>"
      ],
      "text/plain": [
       "                          id  \\\n",
       "0  Conventional Oil Desalter   \n",
       "1   Cyclone Pro-Elite Helmet   \n",
       "2           Sneaker Pro X100   \n",
       "\n",
       "                                      extracted_text  \n",
       "0  [[-0.039276123, -0.091308594, 0.21606445, 0.25...  \n",
       "1  [[0.2010498, 0.23669434, 0.7285156, -0.2198486...  \n",
       "2  [[0.36938477, 0.22924805, 0.23120117, -0.03631...  "
      ]
     },
     "execution_count": 53,
     "metadata": {},
     "output_type": "execute_result"
    }
   ],
   "source": [
    "# import pandas as pd\n",
    "# df = pd.DataFrame(\n",
    "#     data = {\n",
    "#     'id': ['Conventional Oil Desalter','Cyclone Pro-Elite Helmet', 'Sneaker Pro X100'],\n",
    "#     'extracted_text': [vectors[0], vectors[1], vectors[2]]\n",
    "#     })\n",
    "# df"
   ]
  },
  {
   "cell_type": "code",
   "execution_count": null,
   "metadata": {},
   "outputs": [],
   "source": [
    "# %pip install numpy"
   ]
  },
  {
   "cell_type": "code",
   "execution_count": 31,
   "metadata": {},
   "outputs": [
    {
     "name": "stdout",
     "output_type": "stream",
     "text": [
      "(1, 768)\n"
     ]
    }
   ],
   "source": [
    "# import numpy as np\n",
    "# embeds = np.array(response)\n",
    "# print(embeds.shape)"
   ]
  },
  {
   "cell_type": "markdown",
   "metadata": {},
   "source": [
    "Query the database"
   ]
  },
  {
   "cell_type": "code",
   "execution_count": 84,
   "metadata": {},
   "outputs": [
    {
     "data": {
      "text/plain": [
       "{'matches': [{'id': 'B', 'score': 0.962923527, 'values': []},\n",
       "             {'id': 'C', 'score': 0.810164571, 'values': []},\n",
       "             {'id': 'A', 'score': 0.755403161, 'values': []}],\n",
       " 'namespace': '',\n",
       " 'usage': {'read_units': 6}}"
      ]
     },
     "execution_count": 84,
     "metadata": {},
     "output_type": "execute_result"
    }
   ],
   "source": [
    "query = \"General Features:Ideal for professional cyclists and serious cycling enthusiasts, the Cyclone Pro-Elite Helmet offers innovative features such as precise fit, optimized ventilation, and superior aerodynamics. This helmet is the perfect choice for those looking to improve their performance while maintaining safety at all speed levels.\"\n",
    "\n",
    "# create the query embedding\n",
    "vec = co.embed(\n",
    "    texts=[query],\n",
    "    model='multilingual-22-12',\n",
    "    truncate='NONE'\n",
    ").embeddings\n",
    "\n",
    "# print(np.array(xq).shape)\n",
    "\n",
    "# query, returning the top 10 most similar results\n",
    "res = index.query(vector=vec, top_k=10, include_metadata=True)\n",
    "res\n",
    "\n",
    "\n",
    "# ans['matches'][0]['values']\n",
    "\n"
   ]
  },
  {
   "cell_type": "code",
   "execution_count": 86,
   "metadata": {},
   "outputs": [
    {
     "data": {
      "text/plain": [
       "['0.962923527', '0.810164571', '0.755403161']"
      ]
     },
     "execution_count": 86,
     "metadata": {},
     "output_type": "execute_result"
    }
   ],
   "source": [
    "des = [str(x['score']) for x in res['matches']]\n",
    "des"
   ]
  },
  {
   "cell_type": "code",
   "execution_count": 87,
   "metadata": {},
   "outputs": [],
   "source": [
    "contexts = [\n",
    "        f\"Product description score: {des}\"\n",
    "        for description in zip(des)\n",
    "    ]\n"
   ]
  },
  {
   "cell_type": "code",
   "execution_count": 88,
   "metadata": {},
   "outputs": [
    {
     "name": "stdout",
     "output_type": "stream",
     "text": [
      "Answer the Query based on the contexts, if it's not in the contexts say 'I don't know the answer'. \n",
      "\n",
      "Context:\n",
      "Product description score: ['0.962923527', '0.810164571', '0.755403161']Product description score: ['0.962923527', '0.810164571', '0.755403161']Product description score: ['0.962923527', '0.810164571', '0.755403161']\n",
      "\n",
      "Query: General Features:Ideal for professional cyclists and serious cycling enthusiasts, the Cyclone Pro-Elite Helmet offers innovative features such as precise fit, optimized ventilation, and superior aerodynamics. This helmet is the perfect choice for those looking to improve their performance while maintaining safety at all speed levels.\n",
      "Answer in the language of Query, if Query is in English Answer in English.\n"
     ]
    }
   ],
   "source": [
    "limit = 3000\n",
    "prompt_start = (\n",
    "        f\"Answer the Query based on the contexts, if it's not in the contexts say 'I don't know the answer'. \\n\\n\"\n",
    "        f\"Context:\\n\"\n",
    "    )\n",
    "prompt_end = (\n",
    "        f\"\\n\\nQuery: {query}\\nAnswer in the language of Query, if Query is in English Answer in English.\"\n",
    "    )\n",
    "# Append contexts until hitting the limit\n",
    "for i in range(1, len(contexts)):\n",
    "    if len(\"\".join(contexts[:i])) >= limit:\n",
    "            prompt = (\n",
    "                prompt_start +\n",
    "                \"\".join(contexts[:i-1]) +\n",
    "                prompt_end\n",
    "            )\n",
    "            break\n",
    "    elif i == len(contexts)-1:\n",
    "            prompt = (\n",
    "                prompt_start +\n",
    "                \"\".join(contexts) +\n",
    "                prompt_end\n",
    "            )\n",
    "print(prompt)"
   ]
  },
  {
   "cell_type": "code",
   "execution_count": 68,
   "metadata": {},
   "outputs": [
    {
     "name": "stdout",
     "output_type": "stream",
     "text": [
      "0.96:\n",
      "0.96:\n",
      "0.96:\n",
      "0.81:\n",
      "0.81:\n",
      "0.81:\n"
     ]
    }
   ],
   "source": [
    "for match in res['matches']:\n",
    "    print(f\"{match['score']:.2f}:\")\n",
    "    print(f\"{match['score']:.2f}:\")\n",
    "    print(f\"{match['score']:.2f}:\")"
   ]
  },
  {
   "cell_type": "code",
   "execution_count": null,
   "metadata": {},
   "outputs": [],
   "source": [
    "limit = 1600\n",
    "\n",
    "def retrieve(query):\n",
    "    xq = co.embed(\n",
    "        texts=[query],\n",
    "        model='multilingual-22-12',\n",
    "        truncate='NONE'\n",
    "    ).embeddings\n",
    "    # search pinecone index for context\n",
    "    xc = index.query(vector=xq, top_k=3, include_metadata=True)\n",
    "\n",
    "    # Extract relevant information from the matches\n",
    "    surahs = [str(x['metadata']['Surah']) for x in xc['matches']]\n",
    "    ayahs = [str(x['metadata']['Ayat']) for x in xc['matches']]\n",
    "    arabics = [str(x['metadata']['Arabic']) for x in xc['matches']]\n",
    "    tafaseers = [str(x['metadata']['Tafaseer1']) for x in xc['matches']]\n",
    "\n",
    "    # Combine the information into formatted contexts\n",
    "    contexts = [\n",
    "        f\"Surah: {surah}\\n Ayah: {ayah}\\n Arabic: {arabic}\\n\"\n",
    "        for surah, ayah, arabic in zip(surahs, ayahs, arabics)\n",
    "    ]\n",
    "\n",
    "    # Build the prompt with the retrieved contexts included\n",
    "    prompt_start = (\n",
    "        f\"Answer the Query based on the contexts, if it's not in the contexts say 'I don't know the answer'. \\n\\n\"\n",
    "        f\"Context:\\n\"\n",
    "    )\n",
    "    prompt_end = (\n",
    "        f\"\\n\\nQuery: {query}\\nAnswer in the language of Query, if Query is in English Answer in English. Please provide reference Quran verses.\"\n",
    "    )\n",
    "\n",
    "    # Append contexts until hitting the limit\n",
    "    for i in range(1, len(contexts)):\n",
    "        if len(\"\".join(contexts[:i])) >= limit:\n",
    "            prompt = (\n",
    "                prompt_start +\n",
    "                \"\".join(contexts[:i-1]) +\n",
    "                prompt_end\n",
    "            )\n",
    "            break\n",
    "        elif i == len(contexts)-1:\n",
    "            prompt = (\n",
    "                prompt_start +\n",
    "                \"\".join(contexts) +\n",
    "                prompt_end\n",
    "            )\n",
    "    return prompt\n",
    "\n",
    "# Example usage with a query in a different language (Spanish)\n",
    "query_new = \"¿Cuál es el significado de la vida?\"\n",
    "prompt_new = retrieve(query_new)\n",
    "print(prompt_new)"
   ]
  },
  {
   "cell_type": "code",
   "execution_count": null,
   "metadata": {},
   "outputs": [],
   "source": []
  },
  {
   "cell_type": "code",
   "execution_count": null,
   "metadata": {},
   "outputs": [],
   "source": [
    "def complete(prompt):\n",
    "  response = co.generate(\n",
    "                          model='c4ai-aya',\n",
    "                          prompt=prompt,\n",
    "                          max_tokens=600,\n",
    "                          temperature=0.2,\n",
    "                          k=0,\n",
    "                          stop_sequences=['\\n\\n'],\n",
    "                          return_likelihoods='NONE'\n",
    "                        )\n",
    "  return response.generations[0].text.strip()"
   ]
  },
  {
   "cell_type": "code",
   "execution_count": null,
   "metadata": {},
   "outputs": [],
   "source": [
    "complete(prompt_new)"
   ]
  }
 ],
 "metadata": {
  "kernelspec": {
   "display_name": "env",
   "language": "python",
   "name": "python3"
  },
  "language_info": {
   "codemirror_mode": {
    "name": "ipython",
    "version": 3
   },
   "file_extension": ".py",
   "mimetype": "text/x-python",
   "name": "python",
   "nbconvert_exporter": "python",
   "pygments_lexer": "ipython3",
   "version": "3.11.3"
  }
 },
 "nbformat": 4,
 "nbformat_minor": 2
}
