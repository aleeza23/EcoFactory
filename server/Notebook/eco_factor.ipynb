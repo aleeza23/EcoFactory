{
 "cells": [
  {
   "cell_type": "code",
   "execution_count": 1,
   "metadata": {},
   "outputs": [
    {
     "name": "stdout",
     "output_type": "stream",
     "text": [
      "Hello world\n"
     ]
    }
   ],
   "source": [
    "# ! pip install cohere pinecone-client"
   ]
  },
  {
   "cell_type": "code",
   "execution_count": null,
   "metadata": {},
   "outputs": [],
   "source": [
    "import cohere\n",
    "import os\n",
    "import random\n",
    "import pandas as pd\n",
    "from annoy import AnnoyIndex\n",
    "import numpy as np"
   ]
  },
  {
   "cell_type": "code",
   "execution_count": null,
   "metadata": {},
   "outputs": [],
   "source": [
    "api_key = os.getenv('PINECONE_API_KEY')\n",
    "co = cohere.Client(api_key)"
   ]
  },
  {
   "cell_type": "markdown",
   "metadata": {},
   "source": [
    "Embed the text data and store them in an index"
   ]
  },
  {
   "cell_type": "code",
   "execution_count": null,
   "metadata": {},
   "outputs": [],
   "source": [
    "response = co.embed(texts=texts, model='multilingual-22-12').embeddings\n",
    "embeds = np.array(response)\n",
    "# Embed the documents and store in index\n",
    "search_index = AnnoyIndex(embeds.shape[1], 'angular')\n",
    "# Add all the vectors to the search index\n",
    "for i in range(len(embeds)):\n",
    "    search_index.add_item(i, embeds[i])\n",
    "\n",
    "search_index.build(100) # 10 trees\n",
    "search_index.save('quran_index.ann')"
   ]
  },
  {
   "cell_type": "code",
   "execution_count": null,
   "metadata": {},
   "outputs": [],
   "source": [
    "embeds.shape"
   ]
  },
  {
   "cell_type": "markdown",
   "metadata": {},
   "source": [
    "Query"
   ]
  },
  {
   "cell_type": "code",
   "execution_count": null,
   "metadata": {},
   "outputs": [],
   "source": [
    "# They are all the same ingredients\n",
    "# Expected: Output recipes are the same\n",
    "queries = [\"query here\", \"What does the quran say about the dis-believers\"]\n",
    "\n",
    "queries_lang = [\"English\"]"
   ]
  },
  {
   "cell_type": "markdown",
   "metadata": {},
   "source": [
    "most similar query results"
   ]
  },
  {
   "cell_type": "code",
   "execution_count": null,
   "metadata": {},
   "outputs": [],
   "source": [
    "results_list = []\n",
    "\n",
    "for idx, q in enumerate(queries):\n",
    "\n",
    "    # Retrieve the nearest neighbors\n",
    "    query_embed = co.embed(texts=[q], model='multilingual-22-12').embeddings\n",
    "    similar_item_ids, _ = search_index.get_nns_by_vector(query_embed[0], 5, include_distances=True)\n",
    "\n",
    "    if len(similar_item_ids) >= 2:\n",
    "        # Format the results\n",
    "        results = pd.DataFrame(data={'Surah': df.iloc[similar_item_ids[0]]['Surah'],\n",
    "                                     'Ayah': df.iloc[similar_item_ids[0]]['Ayat'],\n",
    "                                     'Arabic': df.iloc[similar_item_ids[0]]['Arabic'],\n",
    "                                     'Translation': df.iloc[similar_item_ids[0]]['Translation1']}, index=[idx])\n",
    "\n",
    "        results_list.append(results)\n",
    "        print(f\"Query:'{q}'\\nNearest neighbors:\")\n",
    "        print(queries_lang[idx])\n",
    "        print(results)\n",
    "        print(\"\\n\")\n",
    "    else:\n",
    "        print(\"Not enough similar items found for query:\", q)"
   ]
  },
  {
   "cell_type": "markdown",
   "metadata": {},
   "source": [
    "Initializing the pinecone index"
   ]
  },
  {
   "cell_type": "code",
   "execution_count": null,
   "metadata": {},
   "outputs": [],
   "source": [
    "from pinecone import Pinecone\n",
    "\n",
    "pc = Pinecone(api_key=\"\") # add your pinecone API key here\n",
    "\n",
    "index_name = 'quranic'\n",
    "\n",
    "# if the index does not exist, we create it\n",
    "if index_name not in pc.list_indexes().names():\n",
    "    pc.create_index(\n",
    "        index_name,\n",
    "        dimension=shape[1],\n",
    "        metric='cosine'\n",
    "    )\n",
    "\n",
    "# connect to index\n",
    "index = pc.Index(index_name)"
   ]
  },
  {
   "cell_type": "code",
   "execution_count": null,
   "metadata": {},
   "outputs": [],
   "source": [
    "import numpy as np\n",
    "\n",
    "shape = np.array(embeds).shape\n",
    "shape"
   ]
  },
  {
   "cell_type": "code",
   "execution_count": null,
   "metadata": {},
   "outputs": [],
   "source": [
    "batch_size = 128\n",
    "\n",
    "ids = [str(i) for i in range(shape[0])]\n",
    "# create list of metadata dictionaries\n",
    "meta = [{'Arabic': arabic, 'Surah': surah, 'Ayat': ayat, 'Translation1': translation, 'Tafaseer1': tafaseer} for arabic, surah, ayat, translation, tafaseer in zip(df['Arabic'], df['Surah'], df['Ayat'], df['Translation1'], df['Tafaseer1'])]\n",
    "\n",
    "# create list of (id, vector, metadata) tuples to be upserted\n",
    "to_upsert = list(zip(ids, embeds, meta))\n",
    "\n",
    "for i in range(0, shape[0], batch_size):\n",
    "    i_end = min(i+batch_size, shape[0])\n",
    "    index.upsert(vectors=to_upsert[i:i_end])\n",
    "\n",
    "# let's view the index statistics\n",
    "index.describe_index_stats()"
   ]
  },
  {
   "cell_type": "markdown",
   "metadata": {},
   "source": [
    "results most similar to the query from pinecone"
   ]
  },
  {
   "cell_type": "code",
   "execution_count": null,
   "metadata": {},
   "outputs": [],
   "source": [
    "query = \"What does the quran say about the dis-believers?\"\n",
    "\n",
    "# create the query embedding\n",
    "xq = co.embed(\n",
    "    texts=[query],\n",
    "    model='multilingual-22-12',\n",
    "    truncate='NONE'\n",
    ").embeddings\n",
    "\n",
    "print(np.array(xq).shape)\n",
    "\n",
    "# query, returning the top 10 most similar results\n",
    "res = index.query(vector=xq, top_k=10, include_metadata=True)\n",
    "res"
   ]
  },
  {
   "cell_type": "code",
   "execution_count": null,
   "metadata": {},
   "outputs": [],
   "source": [
    "for match in res['matches']:\n",
    "    print(f\"{match['score']:.2f}: {match['metadata']['Arabic']}\")\n",
    "    print(f\"{match['score']:.2f}: {match['metadata']['Translation1']}\")\n",
    "    print(f\"{match['score']:.2f}: {match['metadata']['Tafaseer1']}\")"
   ]
  },
  {
   "cell_type": "code",
   "execution_count": null,
   "metadata": {},
   "outputs": [],
   "source": []
  },
  {
   "cell_type": "code",
   "execution_count": null,
   "metadata": {},
   "outputs": [],
   "source": []
  }
 ],
 "metadata": {
  "kernelspec": {
   "display_name": "env",
   "language": "python",
   "name": "python3"
  },
  "language_info": {
   "codemirror_mode": {
    "name": "ipython",
    "version": 3
   },
   "file_extension": ".py",
   "mimetype": "text/x-python",
   "name": "python",
   "nbconvert_exporter": "python",
   "pygments_lexer": "ipython3",
   "version": "3.11.3"
  }
 },
 "nbformat": 4,
 "nbformat_minor": 2
}
